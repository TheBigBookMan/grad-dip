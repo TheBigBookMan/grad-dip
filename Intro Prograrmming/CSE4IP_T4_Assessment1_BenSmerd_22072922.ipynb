{
 "cells": [
  {
   "cell_type": "markdown",
   "id": "cabd6596",
   "metadata": {},
   "source": [
    "# Task1\n",
    "## Example 1"
   ]
  },
  {
   "cell_type": "code",
   "execution_count": 1,
   "id": "cba1cc3c",
   "metadata": {},
   "outputs": [
    {
     "name": "stdout",
     "output_type": "stream",
     "text": [
      "What is your weight in kg? 72.5\n",
      "What is the name of the other planet? Earth's Moon\n",
      "Your weight on Earth (kg): 72.5\n",
      "Other planets gravity (m/s^2): 1.62\n",
      "On the other planet, you would weigh: 11.972477064220183 kg\n"
     ]
    }
   ],
   "source": [
    "user_weight = float(input(\"What is your weight in kg? \"))\n",
    "other_planet = input(\"What is the name of the other planet? \")\n",
    "\n",
    "EARTH_GRAVITY = 9.81\n",
    "planets_gravity = 0\n",
    "\n",
    "if other_planet == 'Sun':\n",
    "    planets_gravity = 274.13\n",
    "elif other_planet == 'Mercury':\n",
    "    planets_gravity = 3.59\n",
    "elif other_planet == \"Earth's Moon\":\n",
    "    planets_gravity = 1.62\n",
    "elif other_planet == \"Mars\":\n",
    "    planets_gravity = 3.77\n",
    "elif other_planet == \"Pluto\":\n",
    "    planets_gravity = 0.42\n",
    "\n",
    "weight_of_object = (user_weight / EARTH_GRAVITY) * planets_gravity\n",
    "\n",
    "print(f\"Your weight on Earth (kg): {user_weight}\")\n",
    "print(f\"Other planets gravity (m/s^2): {planets_gravity}\")\n",
    "print(f\"On the other planet, you would weigh: {weight_of_object} kg\")"
   ]
  },
  {
   "cell_type": "markdown",
   "id": "be422cff",
   "metadata": {},
   "source": [
    "## Example 2"
   ]
  },
  {
   "cell_type": "code",
   "execution_count": 2,
   "id": "bcdf7e45",
   "metadata": {},
   "outputs": [
    {
     "name": "stdout",
     "output_type": "stream",
     "text": [
      "What is your weight in kg? 80\n",
      "What is the name of the other planet? Mars\n",
      "Your weight on Earth (kg): 80.0\n",
      "Other planets gravity (m/s^2): 3.77\n",
      "On the other planet, you would weigh: 30.744138634046887 kg\n"
     ]
    }
   ],
   "source": [
    "user_weight = float(input(\"What is your weight in kg? \"))\n",
    "other_planet = input(\"What is the name of the other planet? \")\n",
    "\n",
    "EARTH_GRAVITY = 9.81\n",
    "planets_gravity = 0\n",
    "\n",
    "if other_planet == 'Sun':\n",
    "    planets_gravity = 274.13\n",
    "elif other_planet == 'Mercury':\n",
    "    planets_gravity = 3.59\n",
    "elif other_planet == \"Earth's Moon\":\n",
    "    planets_gravity = 1.62\n",
    "elif other_planet == \"Mars\":\n",
    "    planets_gravity = 3.77\n",
    "elif other_planet == \"Pluto\":\n",
    "    planets_gravity = 0.42\n",
    "\n",
    "weight_of_object = (user_weight / EARTH_GRAVITY) * planets_gravity\n",
    "\n",
    "print(f\"Your weight on Earth (kg): {user_weight}\")\n",
    "print(f\"Other planets gravity (m/s^2): {planets_gravity}\")\n",
    "print(f\"On the other planet, you would weigh: {weight_of_object} kg\")"
   ]
  },
  {
   "cell_type": "markdown",
   "id": "1376124e",
   "metadata": {},
   "source": [
    "# Task 2\n",
    "## Example 1"
   ]
  },
  {
   "cell_type": "code",
   "execution_count": 3,
   "id": "c7a7a7c1",
   "metadata": {},
   "outputs": [
    {
     "name": "stdout",
     "output_type": "stream",
     "text": [
      "How tall are you in metres? 1.8\n",
      "What is your weight in kg? 75\n",
      "What's the average number of hours you exercise per week? 4\n",
      "Height (m): 1.8\n",
      "Weight (kg): 75.0\n",
      "Average weekly activity (hours): 4.0\n",
      "Normal diabetes risk\n"
     ]
    }
   ],
   "source": [
    "user_height = float(input(\"How tall are you in metres? \"))\n",
    "user_weight = float(input(\"What is your weight in kg? \"))\n",
    "avg_hours_exercising = float(input(\"What's the average number of hours you exercise per week? \"))\n",
    "\n",
    "bmi = user_weight / (user_height ** 2)\n",
    "\n",
    "print(f\"Height (m): {user_height}\")\n",
    "print(f\"Weight (kg): {user_weight}\")\n",
    "print(f\"Average weekly activity (hours): {avg_hours_exercising}\")\n",
    "\n",
    "if (bmi >= 25 and avg_hours_exercising < 3) or (bmi >= 30):\n",
    "    print(\"High diabetes risk\")\n",
    "else:\n",
    "    print(\"Normal diabetes risk\")"
   ]
  },
  {
   "cell_type": "markdown",
   "id": "b7ad104f",
   "metadata": {},
   "source": [
    "## Example 2"
   ]
  },
  {
   "cell_type": "code",
   "execution_count": 4,
   "id": "d2d05067",
   "metadata": {},
   "outputs": [
    {
     "name": "stdout",
     "output_type": "stream",
     "text": [
      "How tall are you in metres? 1.75\n",
      "What is your weight in kg? 85.2\n",
      "What's the average number of hours you exercise per week? 2.5\n",
      "Height (m): 1.75\n",
      "Weight (kg): 85.2\n",
      "Average weekly activity (hours): 2.5\n",
      "High diabetes risk\n"
     ]
    }
   ],
   "source": [
    "user_height = float(input(\"How tall are you in metres? \"))\n",
    "user_weight = float(input(\"What is your weight in kg? \"))\n",
    "avg_hours_exercising = float(input(\"What's the average number of hours you exercise per week? \"))\n",
    "\n",
    "bmi = user_weight / (user_height ** 2)\n",
    "\n",
    "print(f\"Height (m): {user_height}\")\n",
    "print(f\"Weight (kg): {user_weight}\")\n",
    "print(f\"Average weekly activity (hours): {avg_hours_exercising}\")\n",
    "\n",
    "if (bmi >= 25 and avg_hours_exercising < 3) or (bmi >= 30):\n",
    "    print(\"High diabetes risk\")\n",
    "else:\n",
    "    print(\"Normal diabetes risk\")"
   ]
  },
  {
   "cell_type": "markdown",
   "id": "968f170a",
   "metadata": {},
   "source": [
    "# Task 3\n",
    "## Example 1- Nutella"
   ]
  },
  {
   "cell_type": "code",
   "execution_count": 6,
   "id": "fa0b15e6",
   "metadata": {},
   "outputs": [
    {
     "name": "stdout",
     "output_type": "stream",
     "text": [
      "What is the serving size in grams? 37\n",
      "How many grams of fat in a serving? 11\n",
      "How many grams of carbohydrates in a serving? 22\n",
      "How many grams of protein in a serving? 3\n",
      "Calories per 100g: 537.8378378378378\n"
     ]
    }
   ],
   "source": [
    "serving_size = float(input(\"What is the serving size in grams? \"))\n",
    "grams_fat = float(input(\"How many grams of fat in a serving? \"))\n",
    "grams_carbs = float(input(\"How many grams of carbohydrates in a serving? \"))\n",
    "grams_protein = float(input(\"How many grams of protein in a serving? \"))\n",
    "\n",
    "FATS_CALS_PER_GRAM = 9\n",
    "CARBS_CALS_PER_GRAM = 4\n",
    "PROTEINS_CALS_PER_GRAM = 4\n",
    "\n",
    "total_fat = grams_fat * FATS_CALS_PER_GRAM\n",
    "total_carbs = grams_carbs * CARBS_CALS_PER_GRAM\n",
    "total_protein = grams_protein * PROTEINS_CALS_PER_GRAM\n",
    "\n",
    "total_cals = total_fat + total_carbs + total_protein\n",
    "cals_per_100_grams = (total_cals / serving_size) * 100\n",
    "print(f\"Calories per 100g: {cals_per_100_grams}\")"
   ]
  },
  {
   "cell_type": "markdown",
   "id": "7e50de20",
   "metadata": {},
   "source": [
    "## Example 2- Oreos"
   ]
  },
  {
   "cell_type": "code",
   "execution_count": 8,
   "id": "003ab345",
   "metadata": {},
   "outputs": [
    {
     "name": "stdout",
     "output_type": "stream",
     "text": [
      "What is the serving size in grams? 34\n",
      "How many grams of fat in a serving? 7\n",
      "How many grams of carbohydrates in a serving? 25\n",
      "How many grams of protein in a serving? 1\n",
      "Calories per 100g: 491.1764705882353\n"
     ]
    }
   ],
   "source": [
    "serving_size = float(input(\"What is the serving size in grams? \"))\n",
    "grams_fat = float(input(\"How many grams of fat in a serving? \"))\n",
    "grams_carbs = float(input(\"How many grams of carbohydrates in a serving? \"))\n",
    "grams_protein = float(input(\"How many grams of protein in a serving? \"))\n",
    "\n",
    "FATS_CALS_PER_GRAM = 9\n",
    "CARBS_CALS_PER_GRAM = 4\n",
    "PROTEINS_CALS_PER_GRAM = 4\n",
    "\n",
    "total_fat = grams_fat * FATS_CALS_PER_GRAM\n",
    "total_carbs = grams_carbs * CARBS_CALS_PER_GRAM\n",
    "total_protein = grams_protein * PROTEINS_CALS_PER_GRAM\n",
    "\n",
    "total_cals = total_fat + total_carbs + total_protein\n",
    "cals_per_100_grams = (total_cals / serving_size) * 100\n",
    "print(f\"Calories per 100g: {cals_per_100_grams}\")"
   ]
  },
  {
   "cell_type": "markdown",
   "id": "e183b7f0",
   "metadata": {},
   "source": [
    "# Task 4\n",
    "## Example 1"
   ]
  },
  {
   "cell_type": "code",
   "execution_count": 11,
   "id": "5c6c6735",
   "metadata": {},
   "outputs": [
    {
     "name": "stdout",
     "output_type": "stream",
     "text": [
      "What is the initial deposit amount? 5000\n",
      "What is the interest rate? 1.4\n",
      "What is the term length in years? 8\n",
      "Deposit amount ($): 5000.0\n",
      "Interest rate (%): 1.4\n",
      "Years invested: 8\n",
      "Balance after 8 years: $5588.221917249078\n"
     ]
    }
   ],
   "source": [
    "initial_deposit = float(input(\"What is the initial deposit amount? \"))\n",
    "interest_rate = float(input(\"What is the interest rate? \"))\n",
    "term_length = int(input(\"What is the term length in years? \"))\n",
    "\n",
    "final_amount = 0\n",
    "\n",
    "if term_length == 0:\n",
    "    final_amount = initial_deposit\n",
    "else:\n",
    "    compound_price = initial_deposit\n",
    "    for i in range(term_length):\n",
    "        compound_price = compound_price + (compound_price * (interest_rate / 100))\n",
    "\n",
    "    final_amount = compound_price\n",
    "\n",
    "print(f\"Deposit amount ($): {initial_deposit}\")\n",
    "print(f\"Interest rate (%): {interest_rate}\")\n",
    "print(f\"Years invested: {term_length}\")\n",
    "print(f\"Balance after {term_length} years: ${final_amount}\")"
   ]
  },
  {
   "cell_type": "markdown",
   "id": "4586cac8",
   "metadata": {},
   "source": [
    "## Example 2"
   ]
  },
  {
   "cell_type": "code",
   "execution_count": 12,
   "id": "bd24f657",
   "metadata": {},
   "outputs": [
    {
     "name": "stdout",
     "output_type": "stream",
     "text": [
      "What is the initial deposit amount? 25000\n",
      "What is the interest rate? 0.75\n",
      "What is the term length in years? 10\n",
      "Deposit amount ($): 25000.0\n",
      "Interest rate (%): 0.75\n",
      "Years invested: 10\n",
      "Balance after 10 years: $26939.56363676848\n"
     ]
    }
   ],
   "source": [
    "initial_deposit = float(input(\"What is the initial deposit amount? \"))\n",
    "interest_rate = float(input(\"What is the interest rate? \"))\n",
    "term_length = int(input(\"What is the term length in years? \"))\n",
    "\n",
    "final_amount = 0\n",
    "\n",
    "if term_length == 0:\n",
    "    final_amount = initial_deposit\n",
    "else:\n",
    "    compound_price = initial_deposit\n",
    "    for i in range(term_length):\n",
    "        compound_price = compound_price + (compound_price * (interest_rate / 100))\n",
    "\n",
    "    final_amount = compound_price\n",
    "\n",
    "print(f\"Deposit amount ($): {initial_deposit}\")\n",
    "print(f\"Interest rate (%): {interest_rate}\")\n",
    "print(f\"Years invested: {term_length}\")\n",
    "print(f\"Balance after {term_length} years: ${final_amount}\")"
   ]
  },
  {
   "cell_type": "markdown",
   "id": "d86a40af",
   "metadata": {},
   "source": [
    "# Task 5\n",
    "## Part A\n",
    "### Example 1"
   ]
  },
  {
   "cell_type": "code",
   "execution_count": 2,
   "id": "4f4e194d",
   "metadata": {},
   "outputs": [
    {
     "name": "stdout",
     "output_type": "stream",
     "text": [
      "Whats the minimum required battery capacity in milliam-hours (mAh)? 1200\n",
      "Recommended powerbank: Small MAH\n"
     ]
    }
   ],
   "source": [
    "min_battery_capacity = float(input(\"Whats the minimum required battery capacity in milliam-hours (mAh)? \"))\n",
    "\n",
    "SMALL_MAH = 3000\n",
    "MEDIUM_MAH = 10000\n",
    "LARGE_MAH = 20000\n",
    "\n",
    "powerbank_recommend = ''\n",
    "\n",
    "if min_battery_capacity <= SMALL_MAH:\n",
    "    powerbank_recommend = \"Small MAH\"\n",
    "elif min_battery_capacity <= MEDIUM_MAH:\n",
    "    powerbank_recommend = \"Medium MAH\"\n",
    "else:\n",
    "    powerbank_recommend = \"Large MAH\"\n",
    "    \n",
    "print(f\"Recommended powerbank: {powerbank_recommend}\")"
   ]
  },
  {
   "cell_type": "markdown",
   "id": "2955d26e",
   "metadata": {},
   "source": [
    "### Example 2"
   ]
  },
  {
   "cell_type": "code",
   "execution_count": 3,
   "id": "4c50c99b",
   "metadata": {},
   "outputs": [
    {
     "name": "stdout",
     "output_type": "stream",
     "text": [
      "Whats the minimum required battery capacity in milliam-hours (mAh)? 4800\n",
      "Recommended powerbank: Medium MAH\n"
     ]
    }
   ],
   "source": [
    "min_battery_capacity = float(input(\"Whats the minimum required battery capacity in milliam-hours (mAh)? \"))\n",
    "\n",
    "SMALL_MAH = 3000\n",
    "MEDIUM_MAH = 10000\n",
    "LARGE_MAH = 20000\n",
    "\n",
    "powerbank_recommend = ''\n",
    "\n",
    "if min_battery_capacity <= SMALL_MAH:\n",
    "    powerbank_recommend = \"Small MAH\"\n",
    "elif min_battery_capacity <= MEDIUM_MAH:\n",
    "    powerbank_recommend = \"Medium MAH\"\n",
    "else:\n",
    "    powerbank_recommend = \"Large MAH\"\n",
    "    \n",
    "print(f\"Recommended powerbank: {powerbank_recommend}\")"
   ]
  },
  {
   "cell_type": "markdown",
   "id": "0cb0c57a",
   "metadata": {},
   "source": [
    "## Part B\n",
    "### Example 1"
   ]
  },
  {
   "cell_type": "code",
   "execution_count": 4,
   "id": "9c0bae27",
   "metadata": {},
   "outputs": [
    {
     "name": "stdout",
     "output_type": "stream",
     "text": [
      "What is the device capacity? 3000\n",
      "Do you have more devices? n\n",
      "Total requirement: 3000.0 mAH\n",
      "Recommended powerbank: Small MAH\n"
     ]
    }
   ],
   "source": [
    "device_total_battery_capacity = 0\n",
    "\n",
    "SMALL_MAH = 3000\n",
    "MEDIUM_MAH = 10000\n",
    "LARGE_MAH = 20000\n",
    "\n",
    "while True:\n",
    "    device_capacity = float(input(\"What is the device capacity? \"))\n",
    "    device_total_battery_capacity = device_total_battery_capacity + device_capacity\n",
    "\n",
    "    more_devices = input(\"Do you have more devices? \")\n",
    "\n",
    "    if more_devices == \"n\":\n",
    "        break\n",
    "\n",
    "powerbank_recommend = ''\n",
    "\n",
    "if device_total_battery_capacity <= SMALL_MAH:\n",
    "    powerbank_recommend = \"Small MAH\"\n",
    "elif device_total_battery_capacity <= MEDIUM_MAH:\n",
    "    powerbank_recommend = \"Medium MAH\"\n",
    "else:\n",
    "    powerbank_recommend = \"Large MAH\"\n",
    "\n",
    "print(f\"Total requirement: {device_total_battery_capacity} mAH\")\n",
    "print(f\"Recommended powerbank: {powerbank_recommend}\")"
   ]
  },
  {
   "cell_type": "markdown",
   "id": "5ce54e33",
   "metadata": {},
   "source": [
    "### Example 2"
   ]
  },
  {
   "cell_type": "code",
   "execution_count": 5,
   "id": "5da305ac",
   "metadata": {},
   "outputs": [
    {
     "name": "stdout",
     "output_type": "stream",
     "text": [
      "What is the device capacity? 3000\n",
      "Do you have more devices? y\n",
      "What is the device capacity? 290\n",
      "Do you have more devices? y\n",
      "What is the device capacity? 4400\n",
      "Do you have more devices? n\n",
      "Total requirement: 7690.0 mAH\n",
      "Recommended powerbank: Medium MAH\n"
     ]
    }
   ],
   "source": [
    "device_total_battery_capacity = 0\n",
    "\n",
    "SMALL_MAH = 3000\n",
    "MEDIUM_MAH = 10000\n",
    "LARGE_MAH = 20000\n",
    "\n",
    "while True:\n",
    "    device_capacity = float(input(\"What is the device capacity? \"))\n",
    "    device_total_battery_capacity = device_total_battery_capacity + device_capacity\n",
    "\n",
    "    more_devices = input(\"Do you have more devices? \")\n",
    "\n",
    "    if more_devices == \"n\":\n",
    "        break\n",
    "\n",
    "powerbank_recommend = ''\n",
    "\n",
    "if device_total_battery_capacity <= SMALL_MAH:\n",
    "    powerbank_recommend = \"Small MAH\"\n",
    "elif device_total_battery_capacity <= MEDIUM_MAH:\n",
    "    powerbank_recommend = \"Medium MAH\"\n",
    "else:\n",
    "    powerbank_recommend = \"Large MAH\"\n",
    "\n",
    "print(f\"Total requirement: {device_total_battery_capacity} mAH\")\n",
    "print(f\"Recommended powerbank: {powerbank_recommend}\")"
   ]
  }
 ],
 "metadata": {
  "kernelspec": {
   "display_name": "Python 3 (ipykernel)",
   "language": "python",
   "name": "python3"
  },
  "language_info": {
   "codemirror_mode": {
    "name": "ipython",
    "version": 3
   },
   "file_extension": ".py",
   "mimetype": "text/x-python",
   "name": "python",
   "nbconvert_exporter": "python",
   "pygments_lexer": "ipython3",
   "version": "3.11.1"
  }
 },
 "nbformat": 4,
 "nbformat_minor": 5
}
